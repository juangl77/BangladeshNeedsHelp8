{
 "cells": [
  {
   "cell_type": "code",
   "execution_count": 1,
   "metadata": {
    "collapsed": true
   },
   "outputs": [],
   "source": [
    "import pandas as pd\n",
    "import numpy as np\n",
    "import math as m\n",
    "import matplotlib.pyplot as plt"
   ]
  },
  {
   "cell_type": "code",
   "execution_count": 101,
   "metadata": {
    "collapsed": false
   },
   "outputs": [],
   "source": [
    "#Importing Data\n",
    "Data = pd.read_csv('Group8_Assignment2_2_Model_EffectOfBridgeDamageOnDrivingTime_ResultsSummary.csv', decimal = ',', sep = ';')\n",
    "#Filtering Bridge Data\n",
    "Bridge_Data = Data[Data['Object Name'].str.contains('bridge')]"
   ]
  },
  {
   "cell_type": "code",
   "execution_count": 114,
   "metadata": {
    "collapsed": false
   },
   "outputs": [
    {
     "name": "stderr",
     "output_type": "stream",
     "text": [
      "C:\\Users\\JuanDavid\\Anaconda3\\lib\\site-packages\\ipykernel\\__main__.py:3: UserWarning: Boolean Series key will be reindexed to match DataFrame index.\n",
      "  app.launch_new_instance()\n",
      "C:\\Users\\JuanDavid\\Anaconda3\\lib\\site-packages\\ipykernel\\__main__.py:11: SettingWithCopyWarning: \n",
      "A value is trying to be set on a copy of a slice from a DataFrame.\n",
      "Try using .loc[row_indexer,col_indexer] = value instead\n",
      "\n",
      "See the caveats in the documentation: http://pandas.pydata.org/pandas-docs/stable/indexing.html#indexing-view-versus-copy\n",
      "C:\\Users\\JuanDavid\\Anaconda3\\lib\\site-packages\\ipykernel\\__main__.py:12: SettingWithCopyWarning: \n",
      "A value is trying to be set on a copy of a slice from a DataFrame.\n",
      "Try using .loc[row_indexer,col_indexer] = value instead\n",
      "\n",
      "See the caveats in the documentation: http://pandas.pydata.org/pandas-docs/stable/indexing.html#indexing-view-versus-copy\n"
     ]
    },
    {
     "data": {
      "text/html": [
       "<div>\n",
       "<table border=\"1\" class=\"dataframe\">\n",
       "  <thead>\n",
       "    <tr style=\"text-align: right;\">\n",
       "      <th></th>\n",
       "      <th>Object Name</th>\n",
       "      <th>Average Waiting Time (minutes)</th>\n",
       "    </tr>\n",
       "  </thead>\n",
       "  <tbody>\n",
       "    <tr>\n",
       "      <th>0</th>\n",
       "      <td>LRP008A</td>\n",
       "      <td>29.132241</td>\n",
       "    </tr>\n",
       "    <tr>\n",
       "      <th>1</th>\n",
       "      <td>LRP217A</td>\n",
       "      <td>19.512497</td>\n",
       "    </tr>\n",
       "    <tr>\n",
       "      <th>2</th>\n",
       "      <td>LRP163A</td>\n",
       "      <td>13.238732</td>\n",
       "    </tr>\n",
       "    <tr>\n",
       "      <th>3</th>\n",
       "      <td>LRP216A</td>\n",
       "      <td>12.497703</td>\n",
       "    </tr>\n",
       "    <tr>\n",
       "      <th>4</th>\n",
       "      <td>LRP022A</td>\n",
       "      <td>12.018771</td>\n",
       "    </tr>\n",
       "  </tbody>\n",
       "</table>\n",
       "</div>"
      ],
      "text/plain": [
       "  Object Name  Average Waiting Time (minutes)\n",
       "0     LRP008A                       29.132241\n",
       "1     LRP217A                       19.512497\n",
       "2     LRP163A                       13.238732\n",
       "3     LRP216A                       12.497703\n",
       "4     LRP022A                       12.018771"
      ]
     },
     "execution_count": 114,
     "metadata": {},
     "output_type": "execute_result"
    }
   ],
   "source": [
    "#Filtering Average Waiting Time Data\n",
    "TimeOnBridgeData = Bridge_Data[Bridge_Data['Data Item']=='TimeOnLink']\n",
    "TimeOnBridgeData = TimeOnBridgeData[Bridge_Data['Statistic Type']=='Average (Minutes)']\n",
    "#Taking average time in each bridge\n",
    "TimeOnBridgeData = TimeOnBridgeData.groupby('Object Name', as_index=False)['Average'].mean().sort_values(by = 'Average', ascending = False)\n",
    "TimeOnBridgeData = TimeOnBridgeData.reset_index(drop=True)\n",
    "#Printing five critical bridges\n",
    "TimeOnBridgeData = pd.DataFrame(TimeOnBridgeData)\n",
    "CriticalBridges = TimeOnBridgeData[:5]\n",
    "\n",
    "CriticalBridges['Object Name']=CriticalBridges['Object Name'].str.replace('bridge_N1_','')\n",
    "CriticalBridges['Object Name']=CriticalBridges['Object Name'].apply(lambda x: x.split('_')[0])\n",
    "CriticalBridges.columns=CriticalBridges.columns.str.replace('Average', 'Average Waiting Time (minutes)')\n",
    "CriticalBridges"
   ]
  },
  {
   "cell_type": "code",
   "execution_count": 120,
   "metadata": {
    "collapsed": false
   },
   "outputs": [],
   "source": [
    "#Plotting Critical Bridges\n",
    "fig1 = plt.figure()\n",
    "y = np.arange(len(CriticalBridges['Average Waiting Time (minutes)'].tolist()))\n",
    "x = CriticalBridges['Average Waiting Time (minutes)'].as_matrix()\n",
    "plt.bar(y, x, alpha=0.5)\n",
    "plt.xticks(y, CriticalBridges['Object Name'].tolist())\n",
    "plt.ylabel('Average time in system (minutes)')\n",
    "plt.xlabel('LRP numbers of critical bridges')\n",
    "plt.title('Critical Bridges')\n",
    "fig1.savefig('CriticalBridges.png')"
   ]
  },
  {
   "cell_type": "code",
   "execution_count": 121,
   "metadata": {
    "collapsed": false
   },
   "outputs": [],
   "source": [
    "#Filtering waiting time for trucks\n",
    "TruckData = Data[Data['Object Type']=='TruckEntity']\n",
    "TruckData = TruckData[TruckData['Data Item']== 'TimeInSystem']\n",
    "TruckData = TruckData[TruckData['Statistic Type']== 'Average (Minutes)']\n",
    "#Plotting Scenario Analysis\n",
    "fig2 = plt.figure()\n",
    "scenarios = TruckData['Scenario'].tolist()\n",
    "y = np.arange(len(scenarios))\n",
    "x = TruckData['Average'].as_matrix()\n",
    "plt.bar(y, x, align='center', alpha=0.5)\n",
    "plt.xticks(y, y+1)\n",
    "plt.ylabel('Average time in system (minutes)')\n",
    "plt.xlabel('Scenarios')\n",
    "plt.title('Scenario Analysis')\n",
    "fig2.savefig('scenarioanalysis.png')"
   ]
  },
  {
   "cell_type": "code",
   "execution_count": null,
   "metadata": {
    "collapsed": false
   },
   "outputs": [],
   "source": []
  },
  {
   "cell_type": "code",
   "execution_count": null,
   "metadata": {
    "collapsed": true
   },
   "outputs": [],
   "source": []
  }
 ],
 "metadata": {
  "kernelspec": {
   "display_name": "Python 3",
   "language": "python",
   "name": "python3"
  },
  "language_info": {
   "codemirror_mode": {
    "name": "ipython",
    "version": 3
   },
   "file_extension": ".py",
   "mimetype": "text/x-python",
   "name": "python",
   "nbconvert_exporter": "python",
   "pygments_lexer": "ipython3",
   "version": "3.6.0"
  }
 },
 "nbformat": 4,
 "nbformat_minor": 2
}

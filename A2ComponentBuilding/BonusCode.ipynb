{
 "cells": [
  {
   "cell_type": "code",
   "execution_count": 13,
   "metadata": {
    "collapsed": true
   },
   "outputs": [],
   "source": [
    "import pandas as pd\n",
    "import numpy as np\n",
    "import math as m\n",
    "import matplotlib.pyplot as plt"
   ]
  },
  {
   "cell_type": "code",
   "execution_count": 53,
   "metadata": {
    "collapsed": false
   },
   "outputs": [],
   "source": [
    "#Importing Data\n",
    "Data = pd.read_csv('Group8_Assignment2_2_Model_EffectOfBridgeDamageOnDrivingTime_ResultsSummary.csv', decimal = ',', sep = ';')\n",
    "#Filtering Bridge Data\n",
    "Bridge_Data = Data[Data['Object Name'].str.contains('bridge')]"
   ]
  },
  {
   "cell_type": "code",
   "execution_count": 54,
   "metadata": {
    "collapsed": false
   },
   "outputs": [
    {
     "name": "stderr",
     "output_type": "stream",
     "text": [
      "C:\\Users\\JuanDavid\\Anaconda3\\lib\\site-packages\\ipykernel\\__main__.py:3: UserWarning: Boolean Series key will be reindexed to match DataFrame index.\n",
      "  app.launch_new_instance()\n"
     ]
    }
   ],
   "source": [
    "#Finding Critical Bridges\n",
    "TimeOnBridgeData = Bridge_Data[Bridge_Data['Data Item']=='TimeOnLink']\n",
    "TimeOnBridgeData = TimeOnBridgeData[Bridge_Data['Statistic Type']=='Average (Minutes)']\n",
    "\n"
   ]
  },
  {
   "cell_type": "code",
   "execution_count": 81,
   "metadata": {
    "collapsed": false
   },
   "outputs": [],
   "source": [
    "#Finding Critical Bridges\n",
    "TimeOnBridgeData = TimeOnBridgeData.groupby('Object Name', as_index=False)['Average'].mean().sort_values(by = 'Average', ascending = False)\n",
    "TimeOnBridgeData = TimeOnBridgeData.reset_index(drop=True)\n",
    "CriticalBridges = TimeOnBridgeData[:5]\n",
    "CriticalBridges.columns=CriticalBridges.columns.str.replace('Average', 'Average Waiting Time')\n",
    "CriticalBridges.to_excel('CriticalBridgesBonus.xlsx')"
   ]
  },
  {
   "cell_type": "code",
   "execution_count": 82,
   "metadata": {
    "collapsed": false
   },
   "outputs": [],
   "source": [
    "#Plot Time in System in scenarios\n",
    "TruckData = Data[Data['Object Type']=='TruckEntity']\n",
    "TruckData = TruckData[TruckData['Data Item']== 'TimeInSystem']\n",
    "TruckData = TruckData[TruckData['Statistic Type']== 'Average (Minutes)']\n",
    "\n",
    "scenarios = TruckData['Scenario'].tolist()\n",
    "y = np.arange(len(scenarios))\n",
    "x = TruckData['Average'].as_matrix()\n",
    "plt.bar(y, x, align='center', alpha=0.5)\n",
    "plt.xticks(y, y+1)\n",
    "plt.ylabel('Average time in system (minutes)')\n",
    "plt.xlabel('Scenarios')\n",
    "plt.title('Scenario Analysis')\n",
    "plt.savefig('scenarioanalysis.png')"
   ]
  }
 ],
 "metadata": {
  "kernelspec": {
   "display_name": "Python 3",
   "language": "python",
   "name": "python3"
  },
  "language_info": {
   "codemirror_mode": {
    "name": "ipython",
    "version": 3
   },
   "file_extension": ".py",
   "mimetype": "text/x-python",
   "name": "python",
   "nbconvert_exporter": "python",
   "pygments_lexer": "ipython3",
   "version": "3.6.0"
  }
 },
 "nbformat": 4,
 "nbformat_minor": 2
}

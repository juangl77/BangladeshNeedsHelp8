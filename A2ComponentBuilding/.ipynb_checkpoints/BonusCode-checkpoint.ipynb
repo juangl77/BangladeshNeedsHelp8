{
 "cells": [
  {
   "cell_type": "code",
   "execution_count": 13,
   "metadata": {
    "collapsed": true
   },
   "outputs": [],
   "source": [
    "import pandas as pd\n",
    "import numpy as np\n",
    "import math as m\n",
    "import matplotlib.pyplot as plt"
   ]
  },
  {
   "cell_type": "code",
   "execution_count": 39,
   "metadata": {
    "collapsed": false
   },
   "outputs": [],
   "source": [
    "#Importing Data\n",
    "Data = pd.read_csv('Group8_Assignment2_2_Model_EffectOfBridgeDamageOnDrivingTime_ResultsSummary.csv', decimal = ',', sep = ';')\n",
    "#Filtering Bridge Data\n",
    "Bridge_Data = Data[Data['Object Name'].str.contains('bridge')]"
   ]
  },
  {
   "cell_type": "code",
   "execution_count": 40,
   "metadata": {
    "collapsed": false
   },
   "outputs": [
    {
     "data": {
      "text/html": [
       "<div>\n",
       "<table border=\"1\" class=\"dataframe\">\n",
       "  <thead>\n",
       "    <tr style=\"text-align: right;\">\n",
       "      <th></th>\n",
       "      <th>Object Name</th>\n",
       "      <th>Average</th>\n",
       "    </tr>\n",
       "  </thead>\n",
       "  <tbody>\n",
       "    <tr>\n",
       "      <th>0</th>\n",
       "      <td>bridge_N1_LRP008a_LRP008b</td>\n",
       "      <td>1.128082</td>\n",
       "    </tr>\n",
       "    <tr>\n",
       "      <th>1</th>\n",
       "      <td>bridge_N1_LRP204c_LRP204d</td>\n",
       "      <td>1.092649</td>\n",
       "    </tr>\n",
       "    <tr>\n",
       "      <th>2</th>\n",
       "      <td>bridge_N1_LRP038d_LRP038e</td>\n",
       "      <td>0.797629</td>\n",
       "    </tr>\n",
       "    <tr>\n",
       "      <th>3</th>\n",
       "      <td>bridge_N1_LRP072a_LRP072b</td>\n",
       "      <td>0.763190</td>\n",
       "    </tr>\n",
       "    <tr>\n",
       "      <th>4</th>\n",
       "      <td>bridge_N1_LRP029a_LRP029b</td>\n",
       "      <td>0.690727</td>\n",
       "    </tr>\n",
       "  </tbody>\n",
       "</table>\n",
       "</div>"
      ],
      "text/plain": [
       "                 Object Name   Average\n",
       "0  bridge_N1_LRP008a_LRP008b  1.128082\n",
       "1  bridge_N1_LRP204c_LRP204d  1.092649\n",
       "2  bridge_N1_LRP038d_LRP038e  0.797629\n",
       "3  bridge_N1_LRP072a_LRP072b  0.763190\n",
       "4  bridge_N1_LRP029a_LRP029b  0.690727"
      ]
     },
     "execution_count": 40,
     "metadata": {},
     "output_type": "execute_result"
    }
   ],
   "source": [
    "#Finding Critical Bridges\n",
    "TimeOnBridgeData = Bridge_Data[Bridge_Data['Data Item']=='TimeOnLink']\n",
    "TimeOnBridgeData = Bridge_Data[Bridge_Data['Statistic Type']=='Average']\n",
    "TimeOnBridgeData = TimeOnBridgeData.groupby('Object Name', as_index=False)['Average'].mean().sort_values(by = 'Average', ascending = False)\n",
    "TimeOnBridgeData = TimeOnBridgeData.reset_index(drop=True)\n",
    "#5 Critical Bridges\n",
    "CriticalBridges = TimeOnBridgeData[:5]\n",
    "CriticalBridges\n"
   ]
  }
 ],
 "metadata": {
  "kernelspec": {
   "display_name": "Python 3",
   "language": "python",
   "name": "python3"
  },
  "language_info": {
   "codemirror_mode": {
    "name": "ipython",
    "version": 3
   },
   "file_extension": ".py",
   "mimetype": "text/x-python",
   "name": "python",
   "nbconvert_exporter": "python",
   "pygments_lexer": "ipython3",
   "version": "3.6.0"
  }
 },
 "nbformat": 4,
 "nbformat_minor": 2
}

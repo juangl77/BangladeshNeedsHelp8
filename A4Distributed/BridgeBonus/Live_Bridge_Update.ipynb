{
 "cells": [
  {
   "cell_type": "code",
   "execution_count": 26,
   "metadata": {
    "collapsed": false
   },
   "outputs": [],
   "source": [
    "#import breakBridges\n",
    "\n",
    "import pandas\n",
    "from sqlalchemy import create_engine\n",
    "from numpy import random"
   ]
  },
  {
   "cell_type": "code",
   "execution_count": 12,
   "metadata": {
    "collapsed": false
   },
   "outputs": [],
   "source": [
    "username='epa1351user'\n",
    "password='xgt65RR##'\n",
    "database='epa1351group08'\n",
    "engine = create_engine('mysql+mysqlconnector://'+ username + ':' + password + '@localhost/'+database)"
   ]
  },
  {
   "cell_type": "code",
   "execution_count": 46,
   "metadata": {
    "collapsed": true
   },
   "outputs": [],
   "source": [
    "def writeToDatabase(df):\n",
    "    print('Will write for food.')"
   ]
  },
  {
   "cell_type": "code",
   "execution_count": 48,
   "metadata": {
    "collapsed": false
   },
   "outputs": [],
   "source": [
    "def isBroken(percentage):\n",
    "    rand = random.random_sample(size=1)\n",
    "    return int(rand < percentage)\n",
    "\n",
    "def breakBridgesOnCategory(percentBroken): \n",
    "    df = pandas.read_sql('SELECT * FROM '+database+'.bridges', con=engine)\n",
    "    for index,row in df.iterrows():\n",
    "        row['broken'] = isBroken(percentBroken[row['category']])\n",
    "    \n",
    "    writeToDatabase(df)"
   ]
  },
  {
   "cell_type": "code",
   "execution_count": 66,
   "metadata": {
    "collapsed": false
   },
   "outputs": [],
   "source": [
    "def breakBridgesOnLRP(lrp,isBroken): \n",
    "    df = pandas.read_sql('SELECT * FROM '+database+'.bridges', con=engine)\n",
    "    if not any(df.lrp == lrp):\n",
    "        print('LRP not found. Please try again.')\n",
    "        return\n",
    "    \n",
    "    df.loc[df.lrp == lrp, 'broken'] = int(isBroken)\n",
    "    \n",
    "    writeToDatabase(df)"
   ]
  },
  {
   "cell_type": "markdown",
   "metadata": {},
   "source": [
    "# Based on Category\n",
    "This option allows you to set the status of broken bridges based on the category of bridge from the following list: `[A, B, C, D, E]`"
   ]
  },
  {
   "cell_type": "code",
   "execution_count": 51,
   "metadata": {
    "collapsed": false
   },
   "outputs": [
    {
     "name": "stdout",
     "output_type": "stream",
     "text": [
      "Will write for food.\n"
     ]
    }
   ],
   "source": [
    "percentBroken = {\n",
    "    'A':0.5,\n",
    "    'B':0.0,\n",
    "    'C':0.0,\n",
    "    'D':0.0,\n",
    "    'E':0.0\n",
    "}\n",
    "\n",
    "breakBridgesOnCategory(percentBroken)"
   ]
  },
  {
   "cell_type": "markdown",
   "metadata": {},
   "source": [
    "# Based on LRP\n",
    "\n",
    "Set a bridge's status using a specific LRP"
   ]
  },
  {
   "cell_type": "code",
   "execution_count": 67,
   "metadata": {
    "collapsed": false
   },
   "outputs": [
    {
     "name": "stdout",
     "output_type": "stream",
     "text": [
      "Will write for food.\n"
     ]
    }
   ],
   "source": [
    "lrp = 'LRP008B'\n",
    "isBroken = True\n",
    "\n",
    "breakBridgesOnLRP(lrp,isBroken)"
   ]
  },
  {
   "cell_type": "code",
   "execution_count": null,
   "metadata": {
    "collapsed": true
   },
   "outputs": [],
   "source": []
  }
 ],
 "metadata": {
  "kernelspec": {
   "display_name": "Python 3",
   "language": "python",
   "name": "python3"
  },
  "language_info": {
   "codemirror_mode": {
    "name": "ipython",
    "version": 3
   },
   "file_extension": ".py",
   "mimetype": "text/x-python",
   "name": "python",
   "nbconvert_exporter": "python",
   "pygments_lexer": "ipython3",
   "version": "3.6.0"
  }
 },
 "nbformat": 4,
 "nbformat_minor": 2
}

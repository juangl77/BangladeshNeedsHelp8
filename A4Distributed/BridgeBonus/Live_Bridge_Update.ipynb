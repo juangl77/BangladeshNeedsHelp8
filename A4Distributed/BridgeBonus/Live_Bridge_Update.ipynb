{
 "cells": [
  {
   "cell_type": "code",
   "execution_count": null,
   "metadata": {
    "collapsed": false
   },
   "outputs": [],
   "source": [
    "from BreakBridges import BreakBridges"
   ]
  },
  {
   "cell_type": "code",
   "execution_count": null,
   "metadata": {
    "collapsed": false
   },
   "outputs": [],
   "source": [
    "username='epa1351user'\n",
    "password='xgt65RR##'\n",
    "database='epa1351group08'\n",
    "\n",
    "breakIt = BreakBridges(username, password, database)"
   ]
  },
  {
   "cell_type": "markdown",
   "metadata": {},
   "source": [
    "# Based on Category\n",
    "This option allows you to set the status of broken bridges based on the category of bridge from the following list: `[A, B, C, D, E]`"
   ]
  },
  {
   "cell_type": "code",
   "execution_count": null,
   "metadata": {
    "collapsed": false
   },
   "outputs": [],
   "source": [
    "percentBroken = {\n",
    "    'A':0.0,\n",
    "    'B':0.0,\n",
    "    'C':0.0,\n",
    "    'D':0.0,\n",
    "    'E':0.0\n",
    "}\n",
    "\n",
    "breakIt.breakBridgesOnCategory(percentBroken)"
   ]
  },
  {
   "cell_type": "markdown",
   "metadata": {},
   "source": [
    "# Based on LRP\n",
    "\n",
    "Set a bridge's status using a specific LRP"
   ]
  },
  {
   "cell_type": "code",
   "execution_count": null,
   "metadata": {
    "collapsed": false
   },
   "outputs": [],
   "source": [
    "lrp = 'LRP008B'\n",
    "isBroken = True\n",
    "\n",
    "breakIt.breakBridgesOnLRP(lrp,isBroken)"
   ]
  },
  {
   "cell_type": "markdown",
   "metadata": {
    "collapsed": true
   },
   "source": [
    "# Optional: All Bridges\n",
    "\n",
    "If you would like a reference dataframe of all bridges in the database, use this method call."
   ]
  },
  {
   "cell_type": "code",
   "execution_count": null,
   "metadata": {
    "collapsed": true
   },
   "outputs": [],
   "source": [
    "df = breakIt.getBridgeList()\n",
    "df"
   ]
  }
 ],
 "metadata": {
  "kernelspec": {
   "display_name": "Python 3",
   "language": "python",
   "name": "python3"
  },
  "language_info": {
   "codemirror_mode": {
    "name": "ipython",
    "version": 3
   },
   "file_extension": ".py",
   "mimetype": "text/x-python",
   "name": "python",
   "nbconvert_exporter": "python",
   "pygments_lexer": "ipython3",
   "version": "3.6.0"
  }
 },
 "nbformat": 4,
 "nbformat_minor": 2
}

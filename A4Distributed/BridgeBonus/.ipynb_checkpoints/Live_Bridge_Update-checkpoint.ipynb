{
 "cells": [
  {
   "cell_type": "code",
   "execution_count": 118,
   "metadata": {
    "collapsed": false
   },
   "outputs": [],
   "source": [
    "#import breakBridges\n",
    "\n",
    "import pandas\n",
    "from sqlalchemy import create_engine\n",
    "from numpy import random\n",
    "import mysql.connector"
   ]
  },
  {
   "cell_type": "code",
   "execution_count": 180,
   "metadata": {
    "collapsed": false
   },
   "outputs": [],
   "source": [
    "username='juangl77'\n",
    "password='bangladesh'\n",
    "database='epa1351group8'\n",
    "engine = create_engine('mysql+mysqlconnector://'+ username + ':' + password + '@localhost/'+database)\n",
    "cnx = mysql.connector.connect(user=username, password=password, database='epa1351group8')\n",
    "cursor = cnx.cursor()"
   ]
  },
  {
   "cell_type": "code",
   "execution_count": 195,
   "metadata": {
    "collapsed": false
   },
   "outputs": [],
   "source": [
    "\n",
    "def writeToDatabase(df):\n",
    "    for index, row in df.iterrows():\n",
    "        sql = \"UPDATE bridges SET broken = \" + str(row['broken']) + \" WHERE lrp = \" + \"'\"+row['lrp']+\"'\"\n",
    "        with engine.begin() as conn:     # TRANSACTION\n",
    "            conn.execute(sql)"
   ]
  },
  {
   "cell_type": "code",
   "execution_count": 207,
   "metadata": {
    "collapsed": false
   },
   "outputs": [],
   "source": [
    "def isBroken(percentage):\n",
    "    rand = random.random_sample(size=1)\n",
    "    return int(rand < percentage)\n",
    "\n",
    "def breakBridgesOnCategory(percentBroken): \n",
    "    df = pandas.read_sql('SELECT * FROM '+database+'.bridges', con=engine)\n",
    "    for index,row in df.iterrows():\n",
    "        row['broken'] = int(isBroken(percentBroken[row['category']]))\n",
    "    print(df)\n",
    "    writeToDatabase(df)"
   ]
  },
  {
   "cell_type": "code",
   "execution_count": 208,
   "metadata": {
    "collapsed": false
   },
   "outputs": [],
   "source": [
    "def breakBridgesOnLRP(lrp,isBroken): \n",
    "    df = pandas.read_sql('SELECT * FROM '+database+'.bridges', con=engine)\n",
    "    if not any(df.lrp == lrp):\n",
    "        print('LRP not found. Please try again.')\n",
    "        return\n",
    "    \n",
    "    df.loc[df.lrp == lrp, 'broken'] = int(isBroken)\n",
    "    \n",
    "    writeToDatabase(df)"
   ]
  },
  {
   "cell_type": "markdown",
   "metadata": {},
   "source": [
    "# Based on Category\n",
    "This option allows you to set the status of broken bridges based on the category of bridge from the following list: `[A, B, C, D, E]`"
   ]
  },
  {
   "cell_type": "code",
   "execution_count": 209,
   "metadata": {
    "collapsed": false
   },
   "outputs": [
    {
     "name": "stdout",
     "output_type": "stream",
     "text": [
      "     rowId category  constructionYear        lat      length        lon  \\\n",
      "0        0        C              1986  23.705060  397.000000  90.523214   \n",
      "1        1        A              1986  23.688412    9.300000  90.548559   \n",
      "2        2        B              2003  23.663309    5.550000  90.563857   \n",
      "3        3        B              1998  23.654426  159.500000  90.576730   \n",
      "4        4        C                -1  23.654426  159.520000  90.576730   \n",
      "5        5        B              2002  23.651571   20.000000  90.581494   \n",
      "6        6        A              2001  23.637954    6.000000  90.593667   \n",
      "7        7        B              2002  23.619883    5.500000  90.608353   \n",
      "8        8        E                -1  23.620472  121.969766  90.607972   \n",
      "9        9        A              2000  23.577980  163.500000  90.641919   \n",
      "10      10        A              2004  23.571631   29.000000  90.645416   \n",
      "11      11        A              1992  23.566003   34.700000  90.648624   \n",
      "12      12        E                -1  23.560417   35.623205  90.654222   \n",
      "13      13        A              2004  23.559191   26.300000  90.655748   \n",
      "14      14        A              2002  23.547738    9.100000  90.669055   \n",
      "15      15        A              2000  23.532775    9.500000  90.685870   \n",
      "16      16        E                -1  23.531527   26.236209  90.717360   \n",
      "17      17        E                -1  23.529388   16.993200  90.751417   \n",
      "18      18        E                -1  23.530888   22.873504  90.804139   \n",
      "19      19        E                -1  23.534666   15.444296  90.824972   \n",
      "20      20        B              1985  23.510088   28.900000  90.875720   \n",
      "21      21        C              1986  23.486881   23.100000  91.017567   \n",
      "22      22        E                -1  23.448833   24.373061  91.147139   \n",
      "23      23        E                -1  23.423583   36.249560  91.162972   \n",
      "24      24        E                -1  23.413111   26.233600  91.184666   \n",
      "25      25        E                -1  23.403750   27.472586  91.217638   \n",
      "26      26        E                -1  23.377972   29.960629  91.240361   \n",
      "27      27        A              1974  23.342671   14.300000  91.264486   \n",
      "28      28        E                -1  23.336027   42.428434  91.270055   \n",
      "29      29        B              1979  23.308361   19.200000  91.286579   \n",
      "..     ...      ...               ...        ...         ...        ...   \n",
      "121    121        A              1984  21.118461    3.400000  92.196292   \n",
      "122    122        C              1976  21.105294    1.200000  92.207398   \n",
      "123    123        A              1964  21.095031    2.700000  92.211460   \n",
      "124    124        A              1976  21.088867    1.200000  92.213696   \n",
      "125    125        A              1984  21.080443    1.000000  92.217404   \n",
      "126    126        C              1980  21.057990    1.200000  92.226509   \n",
      "127    127        B              1978  21.034031   32.100000  92.240706   \n",
      "128    128        C              1956  20.999406   12.500000  92.253721   \n",
      "129    129        C              1975  20.989358   29.900000  92.254571   \n",
      "130    130        C              1966  20.979028   36.600000  92.251223   \n",
      "131    131        A              1985  20.961423    9.200000  92.253254   \n",
      "132    132        B              1974  20.937305   51.000000  92.262375   \n",
      "133    133        B              1981  20.920928   37.600000  92.267453   \n",
      "134    134        A              1972  20.908032   30.000000  92.275691   \n",
      "135    135        C                -1  20.908032   29.300000  92.275691   \n",
      "136    136        A              1982  20.895090    9.000000  92.287952   \n",
      "137    137        B              1978  20.890158   37.300000  92.295718   \n",
      "138    138        A              1991  20.884567    1.500000  92.298716   \n",
      "139    139        E                -1  20.923888   48.755950  92.265389   \n",
      "140    140        E                -1  20.923888   48.755950  92.265389   \n",
      "141    141        E                -1  20.915722   39.287503  92.270499   \n",
      "142    142        E                -1  20.908889   41.975082  92.275166   \n",
      "143    143        E                -1  20.900333   35.476369  92.280722   \n",
      "144    144        E                -1  20.900333   35.476369  92.280722   \n",
      "145    145        E                -1  20.896916   32.258609  92.285444   \n",
      "146    146        E                -1  20.896916   32.258609  92.285444   \n",
      "147    147        E                -1  20.891916   14.497598  92.291666   \n",
      "148    148        E                -1  20.888916   16.918056  92.298250   \n",
      "149    149        E                -1  20.876860   40.082100  92.297889   \n",
      "150    150        E                -1  20.865028   40.481320  92.298250   \n",
      "\n",
      "         lrp road  broken  \n",
      "0    LRP008B   N1       1  \n",
      "1    LRP012A   N1       0  \n",
      "2    LRP016A   N1       0  \n",
      "3    LRP017B   N1       1  \n",
      "4    LRP017B   N1       1  \n",
      "5    LRP018A   N1       0  \n",
      "6    LRP020A   N1       0  \n",
      "7    LRP022A   N1       0  \n",
      "8    LRP022C   N1       0  \n",
      "9    LRP028A   N1       0  \n",
      "10   LRP029A   N1       0  \n",
      "11   LRP030A   N1       0  \n",
      "12   LRP030C   N1       0  \n",
      "13   LRP031A   N1       0  \n",
      "14   LRP033A   N1       0  \n",
      "15   LRP035A   N1       0  \n",
      "16   LRP038D   N1       0  \n",
      "17   LRP042A   N1       0  \n",
      "18   LRP048A   N1       0  \n",
      "19   LRP050A   N1       0  \n",
      "20   LRP056A   N1       0  \n",
      "21   LRP072A   N1       1  \n",
      "22   LRP089A   N1       0  \n",
      "23   LRP093A   N1       0  \n",
      "24   LRP095A   N1       0  \n",
      "25   LRP099A   N1       0  \n",
      "26   LRP102A   N1       0  \n",
      "27   LRP105A   N1       0  \n",
      "28   LRP108A   N1       0  \n",
      "29   LRP110A   N1       0  \n",
      "..       ...  ...     ...  \n",
      "121  LRP425A   N1       0  \n",
      "122  LRP427A   N1       1  \n",
      "123  LRP428A   N1       0  \n",
      "124  LRP429A   N1       0  \n",
      "125  LRP430A   N1       0  \n",
      "126  LRP433A   N1       1  \n",
      "127  LRP436A   N1       0  \n",
      "128  LRP440A   N1       1  \n",
      "129  LRP441A   N1       1  \n",
      "130  LRP443A   N1       1  \n",
      "131  LRP445A   N1       0  \n",
      "132  LRP448A   N1       0  \n",
      "133  LRP450A   N1       0  \n",
      "134  LRP452A   N1       1  \n",
      "135  LRP452A   N1       1  \n",
      "136  LRP454A   N1       0  \n",
      "137  LRP455A   N1       0  \n",
      "138  LRP456A   N1       0  \n",
      "139  LRP457A   N1       0  \n",
      "140  LRP457A   N1       0  \n",
      "141  LRP458B   N1       0  \n",
      "142  LRP459A   N1       0  \n",
      "143  LRP460D   N1       0  \n",
      "144  LRP460D   N1       0  \n",
      "145  LRP461C   N1       0  \n",
      "146  LRP461C   N1       0  \n",
      "147  LRP462A   N1       0  \n",
      "148  LRP463A   N1       0  \n",
      "149  LRP465A   N1       0  \n",
      "150  LRP466B   N1       0  \n",
      "\n",
      "[151 rows x 9 columns]\n"
     ]
    }
   ],
   "source": [
    "percentBroken = {\n",
    "    'A':0.0,\n",
    "    'B':0.0,\n",
    "    'C':0.0,\n",
    "    'D':0.0,\n",
    "    'E':0.0\n",
    "}\n",
    "\n",
    "breakBridgesOnCategory(percentBroken)"
   ]
  },
  {
   "cell_type": "markdown",
   "metadata": {},
   "source": [
    "# Based on LRP\n",
    "\n",
    "Set a bridge's status using a specific LRP"
   ]
  },
  {
   "cell_type": "code",
   "execution_count": 202,
   "metadata": {
    "collapsed": false
   },
   "outputs": [],
   "source": [
    "lrp = 'LRP008B'\n",
    "isBroken = True\n",
    "\n",
    "breakBridgesOnLRP(lrp,isBroken)"
   ]
  },
  {
   "cell_type": "code",
   "execution_count": null,
   "metadata": {
    "collapsed": true
   },
   "outputs": [],
   "source": []
  },
  {
   "cell_type": "code",
   "execution_count": null,
   "metadata": {
    "collapsed": true
   },
   "outputs": [],
   "source": []
  }
 ],
 "metadata": {
  "kernelspec": {
   "display_name": "Python 3",
   "language": "python",
   "name": "python3"
  },
  "language_info": {
   "codemirror_mode": {
    "name": "ipython",
    "version": 3
   },
   "file_extension": ".py",
   "mimetype": "text/x-python",
   "name": "python",
   "nbconvert_exporter": "python",
   "pygments_lexer": "ipython3",
   "version": "3.6.0"
  }
 },
 "nbformat": 4,
 "nbformat_minor": 2
}

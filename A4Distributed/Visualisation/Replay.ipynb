{
 "cells": [
  {
   "cell_type": "markdown",
   "metadata": {},
   "source": [
    "# Replay\n",
    "\n",
    "The replay functionality generates an HTML5 compatible video which can be played, shared, and saved for futher use.\n",
    "This functionality requires that a MovieWriter (such as FFmpeg) is installed on the host system.\n",
    "\n",
    "For Windows the following guide details how to install FFMepg [http://www.wikihow.com/Install-FFmpeg-on-Windows](http://www.wikihow.com/Install-FFmpeg-on-Windows)"
   ]
  },
  {
   "cell_type": "code",
   "execution_count": null,
   "metadata": {
    "collapsed": false
   },
   "outputs": [],
   "source": [
    "from Animator import Animator\n",
    "from IPython.display import HTML\n",
    "from MySQL import Database\n",
    "\n",
    "start_time = 0\n",
    "end_time = 4\n",
    "interval = 500 #ms\n",
    "db = Database('127.0.0.1', 'epa1351group8', 'juangl77', 'bangladesh')\n",
    "\n",
    "animator = Animator()\n",
    "video = animator.animate(db, interval, start_time, end_time)\n",
    "HTML(video)"
   ]
  },
  {
   "cell_type": "code",
   "execution_count": null,
   "metadata": {
    "collapsed": true
   },
   "outputs": [],
   "source": []
  }
 ],
 "metadata": {
  "kernelspec": {
   "display_name": "Python 3",
   "language": "python",
   "name": "python3"
  },
  "language_info": {
   "codemirror_mode": {
    "name": "ipython",
    "version": 3
   },
   "file_extension": ".py",
   "mimetype": "text/x-python",
   "name": "python",
   "nbconvert_exporter": "python",
   "pygments_lexer": "ipython3",
   "version": "3.6.0"
  }
 },
 "nbformat": 4,
 "nbformat_minor": 2
}

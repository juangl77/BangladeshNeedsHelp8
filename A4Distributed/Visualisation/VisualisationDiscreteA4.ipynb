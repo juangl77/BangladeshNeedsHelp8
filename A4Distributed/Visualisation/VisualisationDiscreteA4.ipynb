{
 "cells": [
  {
   "cell_type": "code",
   "execution_count": null,
   "metadata": {
    "collapsed": false
   },
   "outputs": [],
   "source": [
    "# import packages\n",
    "from Visualisation import plot_traffic_density\n",
    "from MySQL import Database\n",
    "import time\n",
    "import warnings\n",
    "import matplotlib.pyplot as plt\n",
    "\n",
    "%matplotlib notebook\n",
    "\n",
    "# Depending on the choices made by the user, select the right csv file and data\n",
    "db = Database('127.0.0.1', 'epa1351group08', 'epa1351user', 'xgt65RR##')\n",
    "db.connect()\n",
    "\n",
    "fig = plt.figure(figsize=(12, 6))\n",
    "\n",
    "waiting_time = 5 # time in seconds to repoll the database\n",
    " \n",
    "while db.latestTime()>-1:\n",
    "    latest_time = db.latestTime()-1\n",
    "    \n",
    "    if latest_time > 0:\n",
    "        with warnings.catch_warnings():\n",
    "            warnings.simplefilter(\"ignore\")\n",
    "            plot_traffic_density(fig, db.dataPerSegment(latest_time))\n",
    "            fig.canvas.draw()\n",
    "    \n",
    "    time.sleep(waiting_time)\n",
    "\n",
    "db.disconnect()"
   ]
  },
  {
   "cell_type": "code",
   "execution_count": null,
   "metadata": {
    "collapsed": true
   },
   "outputs": [],
   "source": []
  }
 ],
 "metadata": {
  "kernelspec": {
   "display_name": "Python 3",
   "language": "python",
   "name": "python3"
  },
  "language_info": {
   "codemirror_mode": {
    "name": "ipython",
    "version": 3
   },
   "file_extension": ".py",
   "mimetype": "text/x-python",
   "name": "python",
   "nbconvert_exporter": "python",
   "pygments_lexer": "ipython3",
   "version": "3.6.0"
  }
 },
 "nbformat": 4,
 "nbformat_minor": 2
}

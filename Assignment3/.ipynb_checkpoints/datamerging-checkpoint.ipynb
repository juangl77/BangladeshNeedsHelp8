{
 "cells": [
  {
   "cell_type": "code",
   "execution_count": 95,
   "metadata": {
    "collapsed": false
   },
   "outputs": [],
   "source": [
    "import pandas as pd\n",
    "import numpy as np\n",
    "import math as m\n",
    "from bisect import bisect"
   ]
  },
  {
   "cell_type": "code",
   "execution_count": 96,
   "metadata": {
    "collapsed": false
   },
   "outputs": [
    {
     "name": "stdout",
     "output_type": "stream",
     "text": [
      "Please write the Road ID: N1\n"
     ]
    }
   ],
   "source": [
    "roadId = input('Please write the Road ID: ')\n",
    "baselocation = 'C:/Users/JuanDavid/Documents/GitHub/EPA1351_2017_Project/'"
   ]
  },
  {
   "cell_type": "code",
   "execution_count": 97,
   "metadata": {
    "collapsed": false
   },
   "outputs": [],
   "source": [
    "def loadWidthData( filelocation = baselocation + 'Road_Data/RMMS/', roadId = roadId):\n",
    "    filename = roadId + '.widths.processed.txt'\n",
    "    dataframe = pd.read_csv(filelocation+filename, delimiter = '\\t')\n",
    "    return dataframe"
   ]
  },
  {
   "cell_type": "code",
   "execution_count": 98,
   "metadata": {
    "collapsed": false
   },
   "outputs": [],
   "source": [
    "def loadBridgeData( filelocation =  baselocation + 'Bridge_Data/BMMS/' , roadId = roadId):\n",
    "    filename = 'BMMS_overview.xls'\n",
    "    dataframe = pd.read_excel(filelocation+filename)\n",
    "    dataframeroad = dataframe[dataframe['road']==roadId]\n",
    "    return dataframeroad"
   ]
  },
  {
   "cell_type": "code",
   "execution_count": 99,
   "metadata": {
    "collapsed": false
   },
   "outputs": [],
   "source": [
    "def loadRoadData( filelocation =  baselocation + 'Road_Data/' , roadId = roadId ):\n",
    "    filename = '_roads2.csv'\n",
    "    dataframe = pd.read_csv(filelocation+filename)\n",
    "    dataframeroad = dataframe[dataframe['road']==roadId]\n",
    "    return dataframeroad"
   ]
  },
  {
   "cell_type": "code",
   "execution_count": 100,
   "metadata": {
    "collapsed": false
   },
   "outputs": [],
   "source": [
    "def formatBridgeData(dataframe = loadBridgeData()):\n",
    "    dataframenoduplicates = dataframe.drop_duplicates('LRPName', keep = 'first')\n",
    "    dataframemodified = dataframenoduplicates.ix[:,:10]\n",
    "    del dataframemodified['km']\n",
    "    del dataframemodified['structureNr']\n",
    "    del dataframemodified['type']\n",
    "    del dataframemodified['roadName']\n",
    "    del dataframemodified['length']\n",
    "    del dataframemodified['name']\n",
    "    dataframemodified = dataframemodified.sort_values(by='chainage').reset_index()\n",
    "    del dataframemodified['index']\n",
    "    return dataframemodified"
   ]
  },
  {
   "cell_type": "code",
   "execution_count": 101,
   "metadata": {
    "collapsed": false
   },
   "outputs": [],
   "source": [
    "def assignNrLanes(dataframe = formatBridgeData(), widths = loadWidthData()):\n",
    "    i = bisect(widths['startChainage'].tolist(),dataframe['chainage'].tolist())\n",
    "    \n",
    "    return widths['nrLanes'][i]\n",
    "    "
   ]
  },
  {
   "cell_type": "code",
   "execution_count": 103,
   "metadata": {
    "collapsed": false
   },
   "outputs": [
    {
     "ename": "TypeError",
     "evalue": "'<' not supported between instances of 'list' and 'int'",
     "output_type": "error",
     "traceback": [
      "\u001b[0;31m---------------------------------------------------------------------------\u001b[0m",
      "\u001b[0;31mTypeError\u001b[0m                                 Traceback (most recent call last)",
      "\u001b[0;32m<ipython-input-103-82c11dc20f96>\u001b[0m in \u001b[0;36m<module>\u001b[0;34m()\u001b[0m\n\u001b[0;32m----> 1\u001b[0;31m \u001b[0mbisect\u001b[0m\u001b[1;33m(\u001b[0m\u001b[1;33m[\u001b[0m\u001b[1;36m0\u001b[0m\u001b[1;33m,\u001b[0m\u001b[1;36m2\u001b[0m\u001b[1;33m,\u001b[0m\u001b[1;36m4\u001b[0m\u001b[1;33m,\u001b[0m\u001b[1;36m6\u001b[0m\u001b[1;33m]\u001b[0m\u001b[1;33m,\u001b[0m\u001b[1;33m[\u001b[0m\u001b[1;36m1\u001b[0m\u001b[1;33m,\u001b[0m\u001b[1;36m3\u001b[0m\u001b[1;33m]\u001b[0m\u001b[1;33m)\u001b[0m\u001b[1;33m\u001b[0m\u001b[0m\n\u001b[0m",
      "\u001b[0;31mTypeError\u001b[0m: '<' not supported between instances of 'list' and 'int'"
     ]
    }
   ],
   "source": [
    "bisect([0,2,4,6],[1,3])"
   ]
  },
  {
   "cell_type": "raw",
   "metadata": {},
   "source": []
  },
  {
   "cell_type": "code",
   "execution_count": null,
   "metadata": {
    "collapsed": false
   },
   "outputs": [],
   "source": []
  },
  {
   "cell_type": "code",
   "execution_count": null,
   "metadata": {
    "collapsed": true
   },
   "outputs": [],
   "source": []
  }
 ],
 "metadata": {
  "kernelspec": {
   "display_name": "Python 3",
   "language": "python",
   "name": "python3"
  },
  "language_info": {
   "codemirror_mode": {
    "name": "ipython",
    "version": 3
   },
   "file_extension": ".py",
   "mimetype": "text/x-python",
   "name": "python",
   "nbconvert_exporter": "python",
   "pygments_lexer": "ipython3",
   "version": "3.6.0"
  }
 },
 "nbformat": 4,
 "nbformat_minor": 2
}

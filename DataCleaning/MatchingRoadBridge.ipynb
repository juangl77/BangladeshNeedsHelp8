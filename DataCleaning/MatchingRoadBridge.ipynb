{
 "cells": [
  {
   "cell_type": "markdown",
   "metadata": {},
   "source": [
    "-Import libraries\n",
    "-Import Data\n",
    "-Smooth Roads\n",
    "    -Coordinates close to each other\n",
    "-Detect non-existing IDs and create a file with it\n",
    "-Matching the coordinates from both files\n",
    "    -Tolerance \n",
    "-Detect Bridge and Road Errors and label \n",
    "-Create the outputs\n"
   ]
  }
 ],
 "metadata": {
  "kernelspec": {
   "display_name": "Python 3",
   "language": "python",
   "name": "python3"
  },
  "language_info": {
   "codemirror_mode": {
    "name": "ipython",
    "version": 3
   },
   "file_extension": ".py",
   "mimetype": "text/x-python",
   "name": "python",
   "nbconvert_exporter": "python",
   "pygments_lexer": "ipython3",
   "version": "3.6.0"
  }
 },
 "nbformat": 4,
 "nbformat_minor": 2
}

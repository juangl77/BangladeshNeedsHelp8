{
 "cells": [
  {
   "cell_type": "raw",
   "metadata": {},
   "source": [
    "-Import libraries (Done)\n",
    "-Import Data (Done)\n",
    "-Smooth Roads\n",
    "    -Coordinates close to each other (Done)\n",
    "-Detect non-existing IDs and create a file with it (Done, no errors found)\n",
    "-Matching the coordinates from both files\n",
    "-Detect Bridge and Road Errors and label \n",
    "-Create the outputs\n"
   ]
  },
  {
   "cell_type": "code",
   "execution_count": 2,
   "metadata": {
    "collapsed": true
   },
   "outputs": [],
   "source": [
    "#Importing libraries\n",
    "import numpy as np\n",
    "import math as m\n",
    "import pandas as pd\n",
    "import matplotlib.pyplot as plt"
   ]
  },
  {
   "cell_type": "code",
   "execution_count": 97,
   "metadata": {
    "collapsed": false
   },
   "outputs": [],
   "source": [
    "\n",
    "#Import data from roads\n",
    "InitialRoadData = pd.read_csv('..\\RMMS\\CSV\\_allRoads.csv')\n",
    "RoadData = InitialRoadData\n"
   ]
  },
  {
   "cell_type": "code",
   "execution_count": 98,
   "metadata": {
    "collapsed": false
   },
   "outputs": [],
   "source": [
    "#Deleting inconsistent coordinates \n",
    "#Finding quantities out of tolerance. This is a 100m Tolerance\n",
    "Tolerance = 0.00008\n",
    "RoadData['UpperErrorLat']=abs(RoadData['Latitude'].shift(-1)-RoadData['Latitude'])>Tolerance\n",
    "RoadData['BelowErrorLat']=abs(RoadData['Latitude'].shift()-RoadData['Latitude'])>Tolerance\n",
    "RoadData['UpperErrorLon']=abs(RoadData['Longitude'].shift(-1)-RoadData['Longitude'])>Tolerance\n",
    "RoadData['BelowErrorLon']=abs(RoadData['Longitude'].shift()-RoadData['Longitude'])>Tolerance\n",
    "#Checking Road ID\n",
    "RoadData['RoadIDCheckAbove']=RoadData['Road Id']==RoadData['Road Id'].shift(-1)\n",
    "RoadData['RoadIDCheckBelow']=RoadData['Road Id']==RoadData['Road Id'].shift()\n",
    "#Labeling Errors\n",
    "RoadData['Error']=((RoadData['RoadIDCheckAbove'] & RoadData['RoadIDCheckBelow'] & ((RoadData['UpperErrorLat'] & RoadData['BelowErrorLat'])|(RoadData['UpperErrorLon'] & RoadData['BelowErrorLon'])))|\n",
    "                   (RoadData['RoadIDCheckAbove'] & -RoadData['RoadIDCheckBelow'] & ((RoadData['UpperErrorLat'] &  -RoadData['UpperErrorLat'].shift(-1))|(RoadData['UpperErrorLon'] &  -RoadData['UpperErrorLon'].shift(-1))))|\n",
    "                   (-RoadData['RoadIDCheckAbove'] & RoadData['RoadIDCheckBelow'] & ((RoadData['BelowErrorLat'] &  -RoadData['BelowErrorLat'].shift())|(RoadData['BelowErrorLon'] &  -RoadData['BelowErrorLon'].shift())))\n",
    "                  )\n"
   ]
  },
  {
   "cell_type": "code",
   "execution_count": 99,
   "metadata": {
    "collapsed": false
   },
   "outputs": [],
   "source": [
    "#Erasing Wrong values\n",
    "RoadData.loc[RoadData.Error == True, 'Latitude'] = np.NaN\n",
    "RoadData.loc[RoadData.Error == True, 'Longitude'] = np.NaN      \n"
   ]
  },
  {
   "cell_type": "code",
   "execution_count": 100,
   "metadata": {
    "collapsed": false
   },
   "outputs": [],
   "source": [
    "#Interpolating \n",
    "SmoothRoadData = RoadData.interpolate()\n",
    "#Formatting\n",
    "del SmoothRoadData['UpperErrorLat']\n",
    "del SmoothRoadData['UpperErrorLon']\n",
    "del SmoothRoadData['BelowErrorLat']\n",
    "del SmoothRoadData['BelowErrorLon']\n",
    "del SmoothRoadData['RoadIDCheckAbove']\n",
    "del SmoothRoadData['RoadIDCheckBelow']\n",
    "del SmoothRoadData['Error']\n",
    "SmoothRoadData.columns=SmoothRoadData.columns.str.replace('LRP Number','IDnumber')\n",
    "SmoothRoadData.columns=SmoothRoadData.columns.str.replace('Road Id','RoadNo')\n",
    "\n"
   ]
  },
  {
   "cell_type": "code",
   "execution_count": 101,
   "metadata": {
    "collapsed": false
   },
   "outputs": [],
   "source": [
    "#Load Bridge Data\n",
    "InitialBridgeData = pd.read_csv('..\\BMMS\\CSV\\_allBridges.csv')\n",
    "#This texts deletes NaN values\n",
    "BridgeData = InitialBridgeData\n",
    "BridgeData.columns=BridgeData.columns.str.replace('BridgeNo','IDnumber')"
   ]
  },
  {
   "cell_type": "code",
   "execution_count": 102,
   "metadata": {
    "collapsed": false
   },
   "outputs": [],
   "source": [
    "#Merge Data Frames\n",
    "TotalData = pd.merge(BridgeData, SmoothRoadData, on=['RoadNo','IDnumber'], how='outer')\n",
    "TotalData = TotalData.fillna(-1)\n"
   ]
  },
  {
   "cell_type": "code",
   "execution_count": 103,
   "metadata": {
    "collapsed": false
   },
   "outputs": [],
   "source": [
    "#Detecting Errors\n",
    "TotalData['LatitudeNotMatching']=abs(TotalData.Latitude_x-TotalData.Latitude_y)>Tolerance  \n",
    "TotalData['LongitudeNotMatching']=abs(TotalData.Longitude_x-TotalData.Longitude_y)>Tolerance\n",
    "TotalData['NoDataInRoadFile']=TotalData.Latitude_y==-1\n",
    "TotalData['NoDataInBridgeFile']=TotalData.Latitude_x==-1\n",
    "TotalData.loc[TotalData['LatitudeNotMatching']&TotalData['LongitudeNotMatching']&-TotalData['NoDataInRoadFile']&-TotalData['NoDataInBridgeFile'],'TypeOfError']='LatAndLongNotMatching'\n",
    "TotalData.loc[TotalData['LatitudeNotMatching']&-TotalData['LongitudeNotMatching']&-TotalData['NoDataInRoadFile']&-TotalData['NoDataInBridgeFile'],'TypeOfError']='LatNotMatching'\n",
    "TotalData.loc[-TotalData['LatitudeNotMatching']&TotalData['LongitudeNotMatching']&-TotalData['NoDataInRoadFile']&-TotalData['NoDataInBridgeFile'],'TypeOfError']='LongNotMatching'\n",
    "TotalData.loc[TotalData['NoDataInRoadFile']&TotalData['NoDataInBridgeFile'],'TypeOfError']='NoDataInRoadAndBridgeFile'\n",
    "TotalData.loc[TotalData['NoDataInRoadFile']&-TotalData['NoDataInBridgeFile'],'TypeOfError']='NoDataInRoadFile'\n",
    "TotalData.loc[-TotalData['NoDataInRoadFile']&TotalData['NoDataInBridgeFile'],'TypeOfError']='NoDataInBridgeFile'\n",
    "TotalData.loc[-TotalData['LatitudeNotMatching']&-TotalData['LongitudeNotMatching']&-TotalData['NoDataInRoadFile']&-TotalData['NoDataInBridgeFile'],'TypeOfError']='CorrectData'\n",
    "\n",
    "\n"
   ]
  },
  {
   "cell_type": "code",
   "execution_count": null,
   "metadata": {
    "collapsed": true
   },
   "outputs": [],
   "source": [
    "#"
   ]
  }
 ],
 "metadata": {
  "kernelspec": {
   "display_name": "Python 3",
   "language": "python",
   "name": "python3"
  },
  "language_info": {
   "codemirror_mode": {
    "name": "ipython",
    "version": 3
   },
   "file_extension": ".py",
   "mimetype": "text/x-python",
   "name": "python",
   "nbconvert_exporter": "python",
   "pygments_lexer": "ipython3",
   "version": "3.6.0"
  }
 },
 "nbformat": 4,
 "nbformat_minor": 2
}

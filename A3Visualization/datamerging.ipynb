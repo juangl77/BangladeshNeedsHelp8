{
 "cells": [
  {
   "cell_type": "code",
   "execution_count": 1,
   "metadata": {
    "collapsed": false
   },
   "outputs": [],
   "source": [
    "import pandas as pd\n",
    "import numpy as np\n",
    "import math as m\n",
    "import DataHandling"
   ]
  },
  {
   "cell_type": "code",
   "execution_count": 12,
   "metadata": {
    "collapsed": false
   },
   "outputs": [
    {
     "name": "stdout",
     "output_type": "stream",
     "text": [
      "Please write the Road ID: N1\n"
     ]
    }
   ],
   "source": [
    "roadId = input('Please write the Road ID: ')"
   ]
  },
  {
   "cell_type": "code",
   "execution_count": 22,
   "metadata": {
    "collapsed": false
   },
   "outputs": [],
   "source": [
    "roads = DataHandling.readRoads(roadId)\n",
    "bridges = DataHandling.readBridges(roadId)\n",
    "widths = DataHandling.readWidths(roadId)\n",
    "traffic = DataHandling.readTraffic(roadId)\n",
    "roadnames = DataHandling.readBridges('').drop_duplicates('road', keep = 'first')['road'].tolist()"
   ]
  },
  {
   "cell_type": "code",
   "execution_count": 23,
   "metadata": {
    "collapsed": false
   },
   "outputs": [],
   "source": [
    "def formatWidthData(dataframe = widths):\n",
    "    dataframe = dataframe.drop('width', 1)\n",
    "    dataframe = dataframe.drop('roadId', 1)\n",
    "    dataframe = dataframe.sort_values(by=['road','startChainage']).reset_index()\n",
    "    dataframe = dataframe.drop('index', 1)\n",
    "    return dataframe"
   ]
  },
  {
   "cell_type": "code",
   "execution_count": 24,
   "metadata": {
    "collapsed": false
   },
   "outputs": [],
   "source": [
    "def formatBridgeData(dataframe = bridges):\n",
    "    dataframenoduplicates = dataframe.drop_duplicates('LRPName', keep = 'first')\n",
    "    dataframemodified = dataframenoduplicates.ix[:,:10]\n",
    "    dataframemodified = dataframemodified.drop('km', 1)\n",
    "    dataframemodified = dataframemodified.drop('structureNr', 1)\n",
    "    dataframemodified = dataframemodified.drop('type', 1)\n",
    "    dataframemodified = dataframemodified.drop('roadName', 1)\n",
    "    dataframemodified = dataframemodified.drop('length', 1)\n",
    "    dataframemodified = dataframemodified.drop('name', 1)\n",
    "    dataframemodified = dataframemodified.sort_values(by=['road','chainage']).reset_index()\n",
    "    dataframemodified = dataframemodified.drop('index', 1)\n",
    "    return dataframemodified"
   ]
  },
  {
   "cell_type": "code",
   "execution_count": 25,
   "metadata": {
    "collapsed": false
   },
   "outputs": [],
   "source": [
    "def formatTrafficData(dataframe = traffic, sideofroad = 'both'):\n",
    "    dataframe = dataframe.drop('name',1)\n",
    "    dataframe = dataframe.drop('start_lrp',1)\n",
    "    dataframe = dataframe.drop('start_offset',1)\n",
    "    dataframe = dataframe.drop('end_lrp',1)\n",
    "    dataframe = dataframe.drop('end_offset',1)\n",
    "    dataframe = dataframe.drop('length',1)\n",
    "    dataframe = dataframe.reset_index()\n",
    "    dataframe = dataframe.drop('index',1)\n",
    "    dataframe.columns = dataframe.columns.str.replace('start_chainage','startChainage')\n",
    "    dataframe.columns = dataframe.columns.str.replace('end_chainage','endChainage')\n",
    "    dataframe = dataframe.sort_values(by = ['road','startChainage','linkNo'] ).reset_index()\n",
    "    dataframe = dataframe.drop('index', 1)\n",
    "    if sideofroad == 'both':\n",
    "        dataframe = dataframe.groupby(['road','startChainage'],as_index=False).sum()\n",
    "    return dataframe"
   ]
  },
  {
   "cell_type": "code",
   "execution_count": 26,
   "metadata": {
    "collapsed": false
   },
   "outputs": [],
   "source": [
    "def mergeFiles(trafficData=formatTrafficData(), bridgeData = formatBridgeData(), widthData = formatWidthData(), roadside = 'both'):\n",
    "    indexesMergedData = widthData['startChainage'].searchsorted(bridgeData['chainage'], side = 'right')\n",
    "    indexesMergedData =indexesMergedData.tolist()\n",
    "    addedNrLanes = bridgeData\n",
    "    list_a = []\n",
    "    for i in indexesMergedData:\n",
    "        list_a.append(widthData['nrLanes'][int(i)-1])\n",
    "    addedNrLanes['nrLanes']=list_a\n",
    "    bridgeData = addedNrLanes\n",
    "    addedTrafficData = bridgeData\n",
    "    for title in trafficData.ix[:,3:].columns:\n",
    "        indexesMergedData = trafficData['startChainage'].searchsorted(bridgeData['chainage'], side = 'right')\n",
    "        indexesMergedData =indexesMergedData.tolist()\n",
    "        list_b=[]\n",
    "        for i in indexesMergedData:\n",
    "            list_b.append(trafficData[title][int(i)-1])\n",
    "        addedTrafficData[title]=list_b\n",
    "    return addedTrafficData"
   ]
  },
  {
   "cell_type": "code",
   "execution_count": 27,
   "metadata": {
    "collapsed": false
   },
   "outputs": [],
   "source": [
    "def calculateLaneTrafficDensity(dataframe = mergeFiles()):\n",
    "    for title in dataframe.ix[:,5:].columns:\n",
    "        dataframe[title] = dataframe[title]/dataframe['nrLanes']\n",
    "    return dataframe"
   ]
  },
  {
   "cell_type": "code",
   "execution_count": 28,
   "metadata": {
    "collapsed": false
   },
   "outputs": [],
   "source": [
    "#Truck capacity is max capacity of type of trucks in tonnes\n",
    "def calculateVulnerability(dataframe = calculateLaneTrafficDensity(), truckcapacity = [15,10,5], socialcarcapacity = [45,30,15,6,4,2,2,1,2,1], conditionlikelihood = [0.05,0.10,0.15,0.20]):\n",
    "    vulbasematrix = dataframe.ix[:,:4]\n",
    "    vulbasematrix.loc[vulbasematrix.condition == 'A', 'BridgeFailureLikelihood'] = conditionlikelihood[0]\n",
    "    vulbasematrix.loc[vulbasematrix.condition == 'B', 'BridgeFailureLikelihood'] = conditionlikelihood[1]\n",
    "    vulbasematrix.loc[vulbasematrix.condition == 'C', 'BridgeFailureLikelihood'] = conditionlikelihood[2]\n",
    "    vulbasematrix.loc[vulbasematrix.condition == 'D', 'BridgeFailureLikelihood'] = conditionlikelihood[3]\n",
    "    cargotitles = ['heavyTruck', 'mediumTruck', 'smallTruck']\n",
    "    socialtitles = ['largeBus','mediumBus','microBus','utility','car','autoRickshaw','motorcycle','bicycle','cycleRickshaw','cart']\n",
    "    vulbasematrix['TrafficEconomicVulnerability'] = 0\n",
    "    for i in range(len(cargotitles)):\n",
    "        vulbasematrix['TrafficEconomicVulnerability'] =  vulbasematrix['TrafficEconomicVulnerability']+dataframe[cargotitles[i]]*truckcapacity[i]\n",
    "    vulbasematrix['TotalEconomicVulnerability'] = vulbasematrix['TrafficEconomicVulnerability']*vulbasematrix['BridgeFailureLikelihood']\n",
    "    vulbasematrix['TrafficSocialVulnerability'] = 0\n",
    "    for i in range(len(socialtitles)):\n",
    "        vulbasematrix['TrafficSocialVulnerability'] =  vulbasematrix['TrafficSocialVulnerability']+dataframe[socialtitles[i]]*socialcarcapacity[i]\n",
    "    vulbasematrix['TotalSocialVulnerability'] = vulbasematrix['TrafficSocialVulnerability']*vulbasematrix['BridgeFailureLikelihood']\n",
    "    return vulbasematrix"
   ]
  },
  {
   "cell_type": "code",
   "execution_count": 29,
   "metadata": {
    "collapsed": false
   },
   "outputs": [],
   "source": [
    "def printRoadResults(dataframe = calculateVulnerability(),  roadId = roadId, root = 'vulnerability'):\n",
    "    dataframe.to_csv(root+roadId+'.csv')\n"
   ]
  },
  {
   "cell_type": "code",
   "execution_count": 34,
   "metadata": {
    "collapsed": false
   },
   "outputs": [],
   "source": [
    "def calculatevulnerabilitysegment(dataframe = calculateVulnerability(), groupLevel=int(len(calculateVulnerability())/100)):\n",
    "    global bridges\n",
    "    londictionary = dict(zip(bridges['LRPName'], bridges['lon']))\n",
    "    latdictionary = dict(zip(bridges['LRPName'], bridges['lat']))                    \n",
    "    result = dataframe.groupby(['road',np.floor(dataframe.index/groupLevel)], as_index = False)\n",
    "    bridgereliability = result.apply(lambda x: np.product(1-x['BridgeFailureLikelihood'])).reset_index(drop=True)\n",
    "    lista = []\n",
    "    for i in bridgereliability:\n",
    "        lista.append(i.max())\n",
    "    result = result.max()\n",
    "    result['BridgeFailureLikelihood'] = 1-pd.DataFrame(lista)\n",
    "    result['TotalSocialVulnerability'] = result['TrafficSocialVulnerability']*result['BridgeFailureLikelihood']\n",
    "    result['TotalEconomicVulnerability'] = result['TrafficEconomicVulnerability']*result['BridgeFailureLikelihood']\n",
    "    result = result.drop('condition',1)\n",
    "    result['Latitude']=result['LRPName']\n",
    "    result['Longitude']=result['LRPName']\n",
    "    result = result.replace({\"Latitude\": latdictionary})\n",
    "    result = result.replace({\"Longitude\": londictionary})\n",
    "    return  result"
   ]
  },
  {
   "cell_type": "code",
   "execution_count": 36,
   "metadata": {
    "collapsed": false
   },
   "outputs": [],
   "source": [
    "printRoadResults(calculatevulnerabilitysegment(), root = 'vulnerabilitypersegment')"
   ]
  },
  {
   "cell_type": "code",
   "execution_count": null,
   "metadata": {
    "collapsed": true
   },
   "outputs": [],
   "source": []
  }
 ],
 "metadata": {
  "kernelspec": {
   "display_name": "Python 3",
   "language": "python",
   "name": "python3"
  },
  "language_info": {
   "codemirror_mode": {
    "name": "ipython",
    "version": 3
   },
   "file_extension": ".py",
   "mimetype": "text/x-python",
   "name": "python",
   "nbconvert_exporter": "python",
   "pygments_lexer": "ipython3",
   "version": "3.6.0"
  }
 },
 "nbformat": 4,
 "nbformat_minor": 2
}

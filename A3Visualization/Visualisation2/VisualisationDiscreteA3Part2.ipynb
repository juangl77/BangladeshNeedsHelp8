{
 "cells": [
  {
   "cell_type": "code",
   "execution_count": 1,
   "metadata": {
    "collapsed": false
   },
   "outputs": [
    {
     "data": {
      "text/plain": [
       "'en_US'"
      ]
     },
     "execution_count": 1,
     "metadata": {},
     "output_type": "execute_result"
    }
   ],
   "source": [
    "import folium\n",
    "import branca\n",
    "\n",
    "import pandas\n",
    "import numpy\n",
    "\n",
    "from operator import itemgetter\n",
    "from math import sin, cos, sqrt, atan2, radians\n",
    "\n",
    "from VisualisationElementsProvider import Scenario\n",
    "from VisualisationElementsProvider import VisualisationElementsProvider\n",
    "\n",
    "import locale\n",
    "locale.setlocale(locale.LC_ALL, 'en_US')"
   ]
  },
  {
   "cell_type": "code",
   "execution_count": 2,
   "metadata": {
    "collapsed": false
   },
   "outputs": [],
   "source": [
    "def calculateDistance(point1, point2):\n",
    "    radius = 6373.0\n",
    "\n",
    "    dlon = point2['lon'] - point1['lon']\n",
    "    dlat = point2['lat'] - point1['lat']\n",
    "\n",
    "    a = sin(dlat / 2)**2 + cos(point1['lat']) * cos(point2['lat']) * sin(dlon / 2)**2\n",
    "    c = 2 * atan2(sqrt(a), sqrt(1 - a))\n",
    "\n",
    "    return radius * c\n",
    "\n",
    "def findResultIndex(results, segment): \n",
    "    for i in range(len(results)): \n",
    "        if results[i]['road'] == segment['road'] and results[i]['LRPName'] == segment['LRPName'] : \n",
    "            return i\n",
    "    \n",
    "    return -42"
   ]
  },
  {
   "cell_type": "code",
   "execution_count": 3,
   "metadata": {
    "collapsed": false
   },
   "outputs": [],
   "source": [
    "def build_indicator_popup(segment): \n",
    "    vulnerability = -42\n",
    "    traffic = -42\n",
    "    membership = []\n",
    "    road = ''\n",
    "    lrp = ''\n",
    "    for elem in segment:\n",
    "        road = elem['road']\n",
    "        lrp = elem['LRPName']\n",
    "        traffic = elem['TotalTraffic']\n",
    "        if vulnerability < elem['TotalEconomicVulnerability']: \n",
    "            vulnerability = elem['TotalEconomicVulnerability']\n",
    "        membership.append(elem['scenario'])\n",
    "        \n",
    "    html = '<b>Road: </b>' + road + \\\n",
    "        '<br>' + \\\n",
    "        '<b>Key LRP: </b>' + lrp + \\\n",
    "        '<br>' + \\\n",
    "        '<b>Total Economic Traffic (per lane, per day): </b>' + locale.format(\"%d\", traffic, grouping=True) + \\\n",
    "        '<br><br>' + \\\n",
    "        '<b>Maximum Economic Traffic Loss Risk (per lane, per day): </b>' + locale.format(\"%d\", vulnerability, grouping=True) + \\\n",
    "        '<br><br>' + \\\n",
    "        '<b>Vulnerable under following damage scenarios: </b>' + \\\n",
    "        '<br>' + \\\n",
    "        '[' + ', '.join(membership) + ']'\n",
    "    iframe = branca.element.IFrame(html=html, width=300, height=180)\n",
    "    popup = folium.Popup(iframe, max_width=500)\n",
    "    \n",
    "    return popup\n",
    "\n",
    "def build_road_popup(elem): \n",
    "    road = elem['road']\n",
    "    lrp = elem['LRPName']\n",
    "    traffic = elem['TotalTraffic']\n",
    "    vulnerability = elem['TotalEconomicVulnerability']\n",
    "            \n",
    "    html = '<b>Road: </b>' + road + \\\n",
    "        '<br>' + \\\n",
    "        '<b>Key LRP: </b>' + lrp + \\\n",
    "        '<br>' + \\\n",
    "        '<b>Total Economic Traffic (per lane, per day): </b>' + locale.format(\"%d\", traffic, grouping=True) + \\\n",
    "        '<br><br>' + \\\n",
    "        '<b>Maximum Economic Traffic Loss Risk (per lane, per day): </b>' + locale.format(\"%d\", vulnerability, grouping=True)\n",
    "    iframe = branca.element.IFrame(html=html, width=300, height=180)\n",
    "    popup = folium.Popup(iframe, max_width=500)\n",
    "    \n",
    "    return popup"
   ]
  },
  {
   "cell_type": "markdown",
   "metadata": {},
   "source": [
    "## Build the vulnerability ratings lists\n",
    "\n",
    "Segment resolution refers to the lengh of segments being analyzed. High resolution will provide data about smaller road segments but will take longer to process, while low resolution calculates vulnerability over a longer road segment but will not take as long to calculate. \n",
    "\n",
    "The number of segments indicates how many of the most vulnerable segments that you wish to visualize. \n",
    "\n",
    "If you would like to run a more rapid version of the vulnerability algorithm, change the mode in `VisualElementsProvider` to `'short'`, which will return the most vulnerable segments of the N1, N2, N3, N4, and N5 only. \n",
    "\n",
    "If you would like to run a thorough calculation with all vulnerability elements tested, switch `mode` to `'all'`. \n",
    "\n",
    "Finally, to perform vulnerability calcuations on an entire class of roads (N, R, Z), mode can be set to a list of characters of all desired classes. For example, `'N'` for just N class roads, or `'NR'` to analyze both N and R class roads. \n",
    "\n",
    "You also have the option of adapting the bridge vulnerability scenarios to any value, based on the condition of the bridge (1:a, 2:b, 3:c, 4:d). "
   ]
  },
  {
   "cell_type": "code",
   "execution_count": 6,
   "metadata": {
    "collapsed": false
   },
   "outputs": [
    {
     "name": "stdout",
     "output_type": "stream",
     "text": [
      "What road segment resolution would you like to analyze [low, medium, high]:high\n"
     ]
    }
   ],
   "source": [
    "segmentResolution = input('What road segment resolution would you like to analyze [low, medium, high]:')"
   ]
  },
  {
   "cell_type": "code",
   "execution_count": 7,
   "metadata": {
    "collapsed": false
   },
   "outputs": [
    {
     "name": "stdout",
     "output_type": "stream",
     "text": [
      "Please provide the number of vulnerable segments to visualize for each scenario: 20\n"
     ]
    }
   ],
   "source": [
    "numberSegments = input('Please provide the number of vulnerable segments to visualize for each scenario: ')"
   ]
  },
  {
   "cell_type": "code",
   "execution_count": 8,
   "metadata": {
    "collapsed": false
   },
   "outputs": [],
   "source": [
    "scenarios = [\n",
    "    Scenario('linear', 0.2, 0.4, 0.6, 0.8),\n",
    "    Scenario('log', 0.2, 0.49, 0.67, 0.8),\n",
    "    Scenario('exp', 0.1, 0.2, 0.4, 0.8)\n",
    "]\n",
    "\n",
    "resolution = {\n",
    "    'low': 100, \n",
    "    'medium': 75, \n",
    "    'high': 40\n",
    "}\n",
    "\n",
    "res = {}\n",
    "\n",
    "selected_resolution = resolution[segmentResolution.lower()]\n",
    "mode = 'NR'\n",
    "numberSegments = int(numberSegments)"
   ]
  },
  {
   "cell_type": "code",
   "execution_count": null,
   "metadata": {
    "collapsed": false
   },
   "outputs": [],
   "source": [
    "res = VisualisationElementsProvider(scenarios, numberSegments, selected_resolution, mode=mode).provide()"
   ]
  },
  {
   "cell_type": "code",
   "execution_count": null,
   "metadata": {
    "collapsed": false
   },
   "outputs": [],
   "source": [
    "#Optional saving scenario results to 3 csvs\n",
    "for key in res: \n",
    "    pandas.DataFrame.from_dict(res[key]).to_csv(key+'.csv')"
   ]
  },
  {
   "cell_type": "code",
   "execution_count": 9,
   "metadata": {
    "collapsed": false
   },
   "outputs": [],
   "source": [
    "#Optional reading scenario analysis from csvs\n",
    "for scenario in scenarios: \n",
    "    df = pandas.DataFrame.from_csv(scenario.name + '.csv')\n",
    "    res[scenario.name] = df.to_dict('records')"
   ]
  },
  {
   "cell_type": "markdown",
   "metadata": {},
   "source": [
    "## Build Roads"
   ]
  },
  {
   "cell_type": "code",
   "execution_count": 10,
   "metadata": {
    "collapsed": false
   },
   "outputs": [],
   "source": [
    "roads = pandas.read_csv('../../WBSIM/infrastructure/_roads3.csv')\n",
    "\n",
    "currResult = 0\n",
    "\n",
    "roadLines = []\n",
    "kw = dict(opacity=1.0, weight=2)\n",
    "\n",
    "results = numpy.array(res['exp'])\n",
    "results_sorted = sorted(results, key=lambda x: x['TotalEconomicVulnerability'], reverse=True)\n",
    "\n",
    "prevRow = None\n",
    "activeRoad = ''\n",
    "currResultSet = []\n",
    "\n",
    "onethird = int(len(results_sorted)/3)\n",
    "twothirds = int(len(results_sorted)/3) * 2\n",
    "\n",
    "road_segments = {'N':[],'R':[],'Z':[]}\n",
    "for index, road in roads.iterrows():\n",
    "    if activeRoad != road['road']: \n",
    "        activeRoad = road['road']\n",
    "        \n",
    "        newResults = []\n",
    "        currResultSet = []\n",
    "        for result in results: \n",
    "            if result['road'] == activeRoad: \n",
    "                currResultSet.append(result)\n",
    "            else: \n",
    "                newResults.append(result)\n",
    "        results = newResults\n",
    "        \n",
    "        currResult = 0\n",
    "        \n",
    "    if len(currResultSet) != 0:\n",
    "        if len(currResultSet) > currResult+1: \n",
    "            currRes = currResultSet[currResult]\n",
    "            nextRes = currResultSet[currResult+1]\n",
    "            distanceFromResult = calculateDistance({'lat':road['lat'],'lon':road['lon']},\n",
    "                                                   {'lat':currRes['Latitude'],'lon':currRes['Longitude']})\n",
    "            distanceFromNextResult = calculateDistance({'lat':road['lat'],'lon':road['lon']},\n",
    "                                                       {'lat':nextRes['Latitude'],'lon':nextRes['Longitude']})\n",
    "                        \n",
    "            if distanceFromNextResult < distanceFromResult: \n",
    "                currResult += 1\n",
    "        activeResult = currResultSet[currResult]\n",
    "    else: \n",
    "        activeResult = None\n",
    "    \n",
    "    if prevRow is not None and prevRow['road'] == activeRoad: \n",
    "        color = 'black'\n",
    "        if activeResult is not None: \n",
    "            resultIndex = findResultIndex(results_sorted, activeResult)\n",
    "            if resultIndex < onethird: \n",
    "                color = 'red'\n",
    "            elif resultIndex < twothirds: \n",
    "                color = 'yellow'\n",
    "            else: \n",
    "                color = 'green'\n",
    "            road_segments[activeRoad[:1]].append(folium.PolyLine(\n",
    "                locations=[(prevRow['lat'],prevRow['lon']), (road['lat'],road['lon'])], \n",
    "                popup=build_road_popup(activeResult),\n",
    "                color=color, **kw))\n",
    "        \n",
    "    prevRow = road"
   ]
  },
  {
   "cell_type": "markdown",
   "metadata": {},
   "source": [
    "## Add vulnerability indicators\n",
    "\n",
    "Red circles indicates a segment is vulnerable in all three bridge vulnerability scenarios tested, yellow indicates a road segment is only included in the most vulnerable list for two scenarios, and green indicates that a road segment is only included in the most vulnerable list for one scenario. "
   ]
  },
  {
   "cell_type": "code",
   "execution_count": 11,
   "metadata": {
    "collapsed": false
   },
   "outputs": [],
   "source": [
    "red_kw = dict(radius=10, fill_color='red', fill_opacity=1)\n",
    "yellow_kw = dict(radius=8, fill_color='yellow', fill_opacity=1)\n",
    "green_kw = dict(radius=6, fill_color='green', fill_opacity=1)\n",
    "\n",
    "indicator_results = res\n",
    "to_display = {}\n",
    "for key in indicator_results: \n",
    "    indicator_results[key] = sorted(indicator_results[key], key=lambda x: x['TotalEconomicVulnerability'], reverse=True)\n",
    "    if len(indicator_results[key]) > numberSegments:\n",
    "        indicator_results[key] = indicator_results[key][:numberSegments]\n",
    "            \n",
    "    for elem in indicator_results[key]: \n",
    "        elem['scenario'] = key\n",
    "        if elem['road']+'_'+elem['LRPName'] not in to_display:\n",
    "            to_display[elem['road']+'_'+elem['LRPName']] = [elem]\n",
    "        else: \n",
    "            to_display[elem['road']+'_'+elem['LRPName']].append(elem)\n",
    "    \n",
    "indicators = []\n",
    "for key in to_display: \n",
    "    kwargs = yellow_kw\n",
    "    if len(to_display[key]) == 1: \n",
    "        kwargs = green_kw\n",
    "    elif len(to_display[key]) == len(scenarios): \n",
    "        kwargs = red_kw\n",
    "        \n",
    "    indicators.append(folium.CircleMarker(location=[to_display[key][0]['Latitude'], to_display[key][0]['Longitude']],\n",
    "                                          popup=build_indicator_popup(to_display[key]),**kwargs))"
   ]
  },
  {
   "cell_type": "markdown",
   "metadata": {},
   "source": [
    "## Build Visualization Map"
   ]
  },
  {
   "cell_type": "code",
   "execution_count": 12,
   "metadata": {
    "collapsed": false
   },
   "outputs": [],
   "source": [
    "min_lon, max_lon = 85, 96\n",
    "min_lat, max_lat = 18, 30\n",
    "\n",
    "vulnerability_map = folium.Map(location=[23.6925117, 90.3160594], \n",
    "                    tiles='Stamen Toner', \n",
    "                    zoom_start=6, \n",
    "                    min_lat=min_lat,\n",
    "                    max_lat=max_lat,\n",
    "                    min_lon=min_lon,\n",
    "                    max_lon=max_lon,\n",
    "                    width='100%',\n",
    "                    height='100%')"
   ]
  },
  {
   "cell_type": "markdown",
   "metadata": {
    "collapsed": true
   },
   "source": [
    "#### Map with N road details"
   ]
  },
  {
   "cell_type": "code",
   "execution_count": 13,
   "metadata": {
    "collapsed": true
   },
   "outputs": [],
   "source": [
    "for road in road_segments['N']: \n",
    "    road.add_to(vulnerability_map)"
   ]
  },
  {
   "cell_type": "markdown",
   "metadata": {},
   "source": [
    "#### Map with R road details"
   ]
  },
  {
   "cell_type": "code",
   "execution_count": 20,
   "metadata": {
    "collapsed": true
   },
   "outputs": [],
   "source": [
    "for road in road_segments['R']: \n",
    "    road.add_to(vulnerability_map)"
   ]
  },
  {
   "cell_type": "markdown",
   "metadata": {},
   "source": [
    "#### Map with Z road details"
   ]
  },
  {
   "cell_type": "code",
   "execution_count": null,
   "metadata": {
    "collapsed": true
   },
   "outputs": [],
   "source": [
    "for road in road_segments['Z']: \n",
    "    road.add_to(vulnerability_map)"
   ]
  },
  {
   "cell_type": "markdown",
   "metadata": {},
   "source": [
    "#### Most vulnerable segment indicators"
   ]
  },
  {
   "cell_type": "code",
   "execution_count": 14,
   "metadata": {
    "collapsed": true
   },
   "outputs": [],
   "source": [
    "for indicator in indicators: \n",
    "    indicator.add_to(vulnerability_map)"
   ]
  },
  {
   "cell_type": "markdown",
   "metadata": {},
   "source": [
    "# Save the map\n",
    "\n",
    "Once the map is saved, the HTML file can be opened in the browser for interaction. You are also able to view the map directly in this notebook, but the detail included leads to performance problems that can be avoided by opening the saved map in a separate window"
   ]
  },
  {
   "cell_type": "code",
   "execution_count": 15,
   "metadata": {
    "collapsed": true
   },
   "outputs": [],
   "source": [
    "vulnerability_map.save('vulnerabilityMap.html')"
   ]
  }
 ],
 "metadata": {
  "kernelspec": {
   "display_name": "Python 3",
   "language": "python",
   "name": "python3"
  },
  "language_info": {
   "codemirror_mode": {
    "name": "ipython",
    "version": 3
   },
   "file_extension": ".py",
   "mimetype": "text/x-python",
   "name": "python",
   "nbconvert_exporter": "python",
   "pygments_lexer": "ipython3",
   "version": "3.6.0"
  }
 },
 "nbformat": 4,
 "nbformat_minor": 2
}
